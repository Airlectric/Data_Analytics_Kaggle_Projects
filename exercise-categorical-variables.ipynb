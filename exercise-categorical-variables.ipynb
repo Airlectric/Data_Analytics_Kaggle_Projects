{
 "cells": [
  {
   "cell_type": "markdown",
   "id": "afdb8c76",
   "metadata": {
    "papermill": {
     "duration": 0.009797,
     "end_time": "2024-03-17T16:51:01.558181",
     "exception": false,
     "start_time": "2024-03-17T16:51:01.548384",
     "status": "completed"
    },
    "tags": []
   },
   "source": [
    "**This notebook is an exercise in the [Intermediate Machine Learning](https://www.kaggle.com/learn/intermediate-machine-learning) course.  You can reference the tutorial at [this link](https://www.kaggle.com/alexisbcook/categorical-variables).**\n",
    "\n",
    "---\n"
   ]
  },
  {
   "cell_type": "markdown",
   "id": "24080007",
   "metadata": {
    "papermill": {
     "duration": 0.010864,
     "end_time": "2024-03-17T16:51:01.580419",
     "exception": false,
     "start_time": "2024-03-17T16:51:01.569555",
     "status": "completed"
    },
    "tags": []
   },
   "source": [
    "By encoding **categorical variables**, you'll obtain your best results thus far!\n",
    "\n",
    "# Setup\n",
    "\n",
    "The questions below will give you feedback on your work. Run the following cell to set up the feedback system."
   ]
  },
  {
   "cell_type": "code",
   "execution_count": 1,
   "id": "5564b607",
   "metadata": {
    "execution": {
     "iopub.execute_input": "2024-03-17T16:51:01.605911Z",
     "iopub.status.busy": "2024-03-17T16:51:01.605252Z",
     "iopub.status.idle": "2024-03-17T16:51:02.662538Z",
     "shell.execute_reply": "2024-03-17T16:51:02.660787Z"
    },
    "papermill": {
     "duration": 1.074114,
     "end_time": "2024-03-17T16:51:02.665274",
     "exception": false,
     "start_time": "2024-03-17T16:51:01.591160",
     "status": "completed"
    },
    "tags": []
   },
   "outputs": [
    {
     "name": "stdout",
     "output_type": "stream",
     "text": [
      "Setup Complete\n"
     ]
    }
   ],
   "source": [
    "# Set up code checking\n",
    "import os\n",
    "if not os.path.exists(\"../input/train.csv\"):\n",
    "    os.symlink(\"../input/home-data-for-ml-course/train.csv\", \"../input/train.csv\")  \n",
    "    os.symlink(\"../input/home-data-for-ml-course/test.csv\", \"../input/test.csv\") \n",
    "from learntools.core import binder\n",
    "binder.bind(globals())\n",
    "from learntools.ml_intermediate.ex3 import *\n",
    "print(\"Setup Complete\")"
   ]
  },
  {
   "cell_type": "markdown",
   "id": "3405a251",
   "metadata": {
    "papermill": {
     "duration": 0.010526,
     "end_time": "2024-03-17T16:51:02.687047",
     "exception": false,
     "start_time": "2024-03-17T16:51:02.676521",
     "status": "completed"
    },
    "tags": []
   },
   "source": [
    "In this exercise, you will work with data from the [Housing Prices Competition for Kaggle Learn Users](https://www.kaggle.com/c/home-data-for-ml-course). \n",
    "\n",
    "![Ames Housing dataset image](https://storage.googleapis.com/kaggle-media/learn/images/lTJVG4e.png)\n",
    "\n",
    "Run the next code cell without changes to load the training and validation sets in `X_train`, `X_valid`, `y_train`, and `y_valid`.  The test set is loaded in `X_test`."
   ]
  },
  {
   "cell_type": "code",
   "execution_count": 2,
   "id": "6a9aebe3",
   "metadata": {
    "execution": {
     "iopub.execute_input": "2024-03-17T16:51:02.712871Z",
     "iopub.status.busy": "2024-03-17T16:51:02.711871Z",
     "iopub.status.idle": "2024-03-17T16:51:04.470848Z",
     "shell.execute_reply": "2024-03-17T16:51:04.469435Z"
    },
    "papermill": {
     "duration": 1.775938,
     "end_time": "2024-03-17T16:51:04.474218",
     "exception": false,
     "start_time": "2024-03-17T16:51:02.698280",
     "status": "completed"
    },
    "tags": []
   },
   "outputs": [],
   "source": [
    "import pandas as pd\n",
    "from sklearn.model_selection import train_test_split\n",
    "\n",
    "# Read the data\n",
    "X = pd.read_csv('../input/train.csv', index_col='Id') \n",
    "X_test = pd.read_csv('../input/test.csv', index_col='Id')\n",
    "\n",
    "# Remove rows with missing target, separate target from predictors\n",
    "X.dropna(axis=0, subset=['SalePrice'], inplace=True)\n",
    "y = X.SalePrice\n",
    "X.drop(['SalePrice'], axis=1, inplace=True)\n",
    "\n",
    "# To keep things simple, we'll drop columns with missing values\n",
    "cols_with_missing = [col for col in X.columns if X[col].isnull().any()] \n",
    "X.drop(cols_with_missing, axis=1, inplace=True)\n",
    "X_test.drop(cols_with_missing, axis=1, inplace=True)\n",
    "\n",
    "# Break off validation set from training data\n",
    "X_train, X_valid, y_train, y_valid = train_test_split(X, y,\n",
    "                                                      train_size=0.8, test_size=0.2,\n",
    "                                                      random_state=0)"
   ]
  },
  {
   "cell_type": "markdown",
   "id": "c6e18d0d",
   "metadata": {
    "papermill": {
     "duration": 0.010126,
     "end_time": "2024-03-17T16:51:04.495510",
     "exception": false,
     "start_time": "2024-03-17T16:51:04.485384",
     "status": "completed"
    },
    "tags": []
   },
   "source": [
    "Use the next code cell to print the first five rows of the data."
   ]
  },
  {
   "cell_type": "code",
   "execution_count": 3,
   "id": "92a531b2",
   "metadata": {
    "execution": {
     "iopub.execute_input": "2024-03-17T16:51:04.517679Z",
     "iopub.status.busy": "2024-03-17T16:51:04.516962Z",
     "iopub.status.idle": "2024-03-17T16:51:04.546269Z",
     "shell.execute_reply": "2024-03-17T16:51:04.545100Z"
    },
    "papermill": {
     "duration": 0.044534,
     "end_time": "2024-03-17T16:51:04.549739",
     "exception": false,
     "start_time": "2024-03-17T16:51:04.505205",
     "status": "completed"
    },
    "tags": []
   },
   "outputs": [
    {
     "data": {
      "text/html": [
       "<div>\n",
       "<style scoped>\n",
       "    .dataframe tbody tr th:only-of-type {\n",
       "        vertical-align: middle;\n",
       "    }\n",
       "\n",
       "    .dataframe tbody tr th {\n",
       "        vertical-align: top;\n",
       "    }\n",
       "\n",
       "    .dataframe thead th {\n",
       "        text-align: right;\n",
       "    }\n",
       "</style>\n",
       "<table border=\"1\" class=\"dataframe\">\n",
       "  <thead>\n",
       "    <tr style=\"text-align: right;\">\n",
       "      <th></th>\n",
       "      <th>MSSubClass</th>\n",
       "      <th>MSZoning</th>\n",
       "      <th>LotArea</th>\n",
       "      <th>Street</th>\n",
       "      <th>LotShape</th>\n",
       "      <th>LandContour</th>\n",
       "      <th>Utilities</th>\n",
       "      <th>LotConfig</th>\n",
       "      <th>LandSlope</th>\n",
       "      <th>Neighborhood</th>\n",
       "      <th>...</th>\n",
       "      <th>OpenPorchSF</th>\n",
       "      <th>EnclosedPorch</th>\n",
       "      <th>3SsnPorch</th>\n",
       "      <th>ScreenPorch</th>\n",
       "      <th>PoolArea</th>\n",
       "      <th>MiscVal</th>\n",
       "      <th>MoSold</th>\n",
       "      <th>YrSold</th>\n",
       "      <th>SaleType</th>\n",
       "      <th>SaleCondition</th>\n",
       "    </tr>\n",
       "    <tr>\n",
       "      <th>Id</th>\n",
       "      <th></th>\n",
       "      <th></th>\n",
       "      <th></th>\n",
       "      <th></th>\n",
       "      <th></th>\n",
       "      <th></th>\n",
       "      <th></th>\n",
       "      <th></th>\n",
       "      <th></th>\n",
       "      <th></th>\n",
       "      <th></th>\n",
       "      <th></th>\n",
       "      <th></th>\n",
       "      <th></th>\n",
       "      <th></th>\n",
       "      <th></th>\n",
       "      <th></th>\n",
       "      <th></th>\n",
       "      <th></th>\n",
       "      <th></th>\n",
       "      <th></th>\n",
       "    </tr>\n",
       "  </thead>\n",
       "  <tbody>\n",
       "    <tr>\n",
       "      <th>619</th>\n",
       "      <td>20</td>\n",
       "      <td>RL</td>\n",
       "      <td>11694</td>\n",
       "      <td>Pave</td>\n",
       "      <td>Reg</td>\n",
       "      <td>Lvl</td>\n",
       "      <td>AllPub</td>\n",
       "      <td>Inside</td>\n",
       "      <td>Gtl</td>\n",
       "      <td>NridgHt</td>\n",
       "      <td>...</td>\n",
       "      <td>108</td>\n",
       "      <td>0</td>\n",
       "      <td>0</td>\n",
       "      <td>260</td>\n",
       "      <td>0</td>\n",
       "      <td>0</td>\n",
       "      <td>7</td>\n",
       "      <td>2007</td>\n",
       "      <td>New</td>\n",
       "      <td>Partial</td>\n",
       "    </tr>\n",
       "    <tr>\n",
       "      <th>871</th>\n",
       "      <td>20</td>\n",
       "      <td>RL</td>\n",
       "      <td>6600</td>\n",
       "      <td>Pave</td>\n",
       "      <td>Reg</td>\n",
       "      <td>Lvl</td>\n",
       "      <td>AllPub</td>\n",
       "      <td>Inside</td>\n",
       "      <td>Gtl</td>\n",
       "      <td>NAmes</td>\n",
       "      <td>...</td>\n",
       "      <td>0</td>\n",
       "      <td>0</td>\n",
       "      <td>0</td>\n",
       "      <td>0</td>\n",
       "      <td>0</td>\n",
       "      <td>0</td>\n",
       "      <td>8</td>\n",
       "      <td>2009</td>\n",
       "      <td>WD</td>\n",
       "      <td>Normal</td>\n",
       "    </tr>\n",
       "    <tr>\n",
       "      <th>93</th>\n",
       "      <td>30</td>\n",
       "      <td>RL</td>\n",
       "      <td>13360</td>\n",
       "      <td>Pave</td>\n",
       "      <td>IR1</td>\n",
       "      <td>HLS</td>\n",
       "      <td>AllPub</td>\n",
       "      <td>Inside</td>\n",
       "      <td>Gtl</td>\n",
       "      <td>Crawfor</td>\n",
       "      <td>...</td>\n",
       "      <td>0</td>\n",
       "      <td>44</td>\n",
       "      <td>0</td>\n",
       "      <td>0</td>\n",
       "      <td>0</td>\n",
       "      <td>0</td>\n",
       "      <td>8</td>\n",
       "      <td>2009</td>\n",
       "      <td>WD</td>\n",
       "      <td>Normal</td>\n",
       "    </tr>\n",
       "    <tr>\n",
       "      <th>818</th>\n",
       "      <td>20</td>\n",
       "      <td>RL</td>\n",
       "      <td>13265</td>\n",
       "      <td>Pave</td>\n",
       "      <td>IR1</td>\n",
       "      <td>Lvl</td>\n",
       "      <td>AllPub</td>\n",
       "      <td>CulDSac</td>\n",
       "      <td>Gtl</td>\n",
       "      <td>Mitchel</td>\n",
       "      <td>...</td>\n",
       "      <td>59</td>\n",
       "      <td>0</td>\n",
       "      <td>0</td>\n",
       "      <td>0</td>\n",
       "      <td>0</td>\n",
       "      <td>0</td>\n",
       "      <td>7</td>\n",
       "      <td>2008</td>\n",
       "      <td>WD</td>\n",
       "      <td>Normal</td>\n",
       "    </tr>\n",
       "    <tr>\n",
       "      <th>303</th>\n",
       "      <td>20</td>\n",
       "      <td>RL</td>\n",
       "      <td>13704</td>\n",
       "      <td>Pave</td>\n",
       "      <td>IR1</td>\n",
       "      <td>Lvl</td>\n",
       "      <td>AllPub</td>\n",
       "      <td>Corner</td>\n",
       "      <td>Gtl</td>\n",
       "      <td>CollgCr</td>\n",
       "      <td>...</td>\n",
       "      <td>81</td>\n",
       "      <td>0</td>\n",
       "      <td>0</td>\n",
       "      <td>0</td>\n",
       "      <td>0</td>\n",
       "      <td>0</td>\n",
       "      <td>1</td>\n",
       "      <td>2006</td>\n",
       "      <td>WD</td>\n",
       "      <td>Normal</td>\n",
       "    </tr>\n",
       "  </tbody>\n",
       "</table>\n",
       "<p>5 rows × 60 columns</p>\n",
       "</div>"
      ],
      "text/plain": [
       "     MSSubClass MSZoning  LotArea Street LotShape LandContour Utilities  \\\n",
       "Id                                                                        \n",
       "619          20       RL    11694   Pave      Reg         Lvl    AllPub   \n",
       "871          20       RL     6600   Pave      Reg         Lvl    AllPub   \n",
       "93           30       RL    13360   Pave      IR1         HLS    AllPub   \n",
       "818          20       RL    13265   Pave      IR1         Lvl    AllPub   \n",
       "303          20       RL    13704   Pave      IR1         Lvl    AllPub   \n",
       "\n",
       "    LotConfig LandSlope Neighborhood  ... OpenPorchSF EnclosedPorch 3SsnPorch  \\\n",
       "Id                                    ...                                       \n",
       "619    Inside       Gtl      NridgHt  ...         108             0         0   \n",
       "871    Inside       Gtl        NAmes  ...           0             0         0   \n",
       "93     Inside       Gtl      Crawfor  ...           0            44         0   \n",
       "818   CulDSac       Gtl      Mitchel  ...          59             0         0   \n",
       "303    Corner       Gtl      CollgCr  ...          81             0         0   \n",
       "\n",
       "    ScreenPorch  PoolArea  MiscVal  MoSold  YrSold SaleType SaleCondition  \n",
       "Id                                                                         \n",
       "619         260         0        0       7    2007      New       Partial  \n",
       "871           0         0        0       8    2009       WD        Normal  \n",
       "93            0         0        0       8    2009       WD        Normal  \n",
       "818           0         0        0       7    2008       WD        Normal  \n",
       "303           0         0        0       1    2006       WD        Normal  \n",
       "\n",
       "[5 rows x 60 columns]"
      ]
     },
     "execution_count": 3,
     "metadata": {},
     "output_type": "execute_result"
    }
   ],
   "source": [
    "X_train.head()"
   ]
  },
  {
   "cell_type": "markdown",
   "id": "1e9975e7",
   "metadata": {
    "papermill": {
     "duration": 0.01134,
     "end_time": "2024-03-17T16:51:04.571272",
     "exception": false,
     "start_time": "2024-03-17T16:51:04.559932",
     "status": "completed"
    },
    "tags": []
   },
   "source": [
    "Notice that the dataset contains both numerical and categorical variables.  You'll need to encode the categorical data before training a model.\n",
    "\n",
    "To compare different models, you'll use the same `score_dataset()` function from the tutorial.  This function reports the [mean absolute error](https://en.wikipedia.org/wiki/Mean_absolute_error) (MAE) from a random forest model."
   ]
  },
  {
   "cell_type": "code",
   "execution_count": 4,
   "id": "e274503f",
   "metadata": {
    "execution": {
     "iopub.execute_input": "2024-03-17T16:51:04.594685Z",
     "iopub.status.busy": "2024-03-17T16:51:04.594030Z",
     "iopub.status.idle": "2024-03-17T16:51:05.015003Z",
     "shell.execute_reply": "2024-03-17T16:51:05.013617Z"
    },
    "papermill": {
     "duration": 0.436174,
     "end_time": "2024-03-17T16:51:05.017791",
     "exception": false,
     "start_time": "2024-03-17T16:51:04.581617",
     "status": "completed"
    },
    "tags": []
   },
   "outputs": [],
   "source": [
    "from sklearn.ensemble import RandomForestRegressor\n",
    "from sklearn.metrics import mean_absolute_error\n",
    "\n",
    "# function for comparing different approaches\n",
    "def score_dataset(X_train, X_valid, y_train, y_valid):\n",
    "    model = RandomForestRegressor(n_estimators=100, random_state=0)\n",
    "    model.fit(X_train, y_train)\n",
    "    preds = model.predict(X_valid)\n",
    "    return mean_absolute_error(y_valid, preds)"
   ]
  },
  {
   "cell_type": "markdown",
   "id": "a0f8919b",
   "metadata": {
    "papermill": {
     "duration": 0.00943,
     "end_time": "2024-03-17T16:51:05.037040",
     "exception": false,
     "start_time": "2024-03-17T16:51:05.027610",
     "status": "completed"
    },
    "tags": []
   },
   "source": [
    "# Step 1: Drop columns with categorical data\n",
    "\n",
    "You'll get started with the most straightforward approach.  Use the code cell below to preprocess the data in `X_train` and `X_valid` to remove columns with categorical data.  Set the preprocessed DataFrames to `drop_X_train` and `drop_X_valid`, respectively.  "
   ]
  },
  {
   "cell_type": "code",
   "execution_count": 5,
   "id": "48d7c79c",
   "metadata": {
    "execution": {
     "iopub.execute_input": "2024-03-17T16:51:05.060940Z",
     "iopub.status.busy": "2024-03-17T16:51:05.059622Z",
     "iopub.status.idle": "2024-03-17T16:51:05.076689Z",
     "shell.execute_reply": "2024-03-17T16:51:05.074405Z"
    },
    "papermill": {
     "duration": 0.034817,
     "end_time": "2024-03-17T16:51:05.081711",
     "exception": false,
     "start_time": "2024-03-17T16:51:05.046894",
     "status": "completed"
    },
    "tags": []
   },
   "outputs": [
    {
     "data": {
      "application/javascript": [
       "parent.postMessage({\"jupyterEvent\": \"custom.exercise_interaction\", \"data\": {\"outcomeType\": 1, \"valueTowardsCompletion\": 0.5, \"interactionType\": 1, \"questionType\": 2, \"questionId\": \"1_Drop\", \"learnToolsVersion\": \"0.3.4\", \"failureMessage\": \"\", \"exceptionClass\": \"\", \"trace\": \"\"}}, \"*\")"
      ],
      "text/plain": [
       "<IPython.core.display.Javascript object>"
      ]
     },
     "metadata": {},
     "output_type": "display_data"
    },
    {
     "data": {
      "text/markdown": [
       "<span style=\"color:#33cc33\">Correct</span>"
      ],
      "text/plain": [
       "Correct"
      ]
     },
     "metadata": {},
     "output_type": "display_data"
    }
   ],
   "source": [
    "# Fill in the lines below: drop columns in training and validation data\n",
    "drop_X_train = X_train.select_dtypes(exclude=['object'])\n",
    "drop_X_valid = X_valid.select_dtypes(exclude=['object'])\n",
    "\n",
    "# Check your answers\n",
    "step_1.check()"
   ]
  },
  {
   "cell_type": "code",
   "execution_count": 6,
   "id": "d8416a88",
   "metadata": {
    "execution": {
     "iopub.execute_input": "2024-03-17T16:51:05.116653Z",
     "iopub.status.busy": "2024-03-17T16:51:05.114262Z",
     "iopub.status.idle": "2024-03-17T16:51:05.122969Z",
     "shell.execute_reply": "2024-03-17T16:51:05.121715Z"
    },
    "papermill": {
     "duration": 0.02829,
     "end_time": "2024-03-17T16:51:05.125864",
     "exception": false,
     "start_time": "2024-03-17T16:51:05.097574",
     "status": "completed"
    },
    "tags": []
   },
   "outputs": [],
   "source": [
    "# Lines below will give you a hint or solution code\n",
    "#step_1.hint()\n",
    "#step_1.solution()"
   ]
  },
  {
   "cell_type": "markdown",
   "id": "5129580b",
   "metadata": {
    "papermill": {
     "duration": 0.016274,
     "end_time": "2024-03-17T16:51:05.153068",
     "exception": false,
     "start_time": "2024-03-17T16:51:05.136794",
     "status": "completed"
    },
    "tags": []
   },
   "source": [
    "Run the next code cell to get the MAE for this approach."
   ]
  },
  {
   "cell_type": "code",
   "execution_count": 7,
   "id": "17be69bb",
   "metadata": {
    "execution": {
     "iopub.execute_input": "2024-03-17T16:51:05.184307Z",
     "iopub.status.busy": "2024-03-17T16:51:05.183402Z",
     "iopub.status.idle": "2024-03-17T16:51:06.517644Z",
     "shell.execute_reply": "2024-03-17T16:51:06.515606Z"
    },
    "papermill": {
     "duration": 1.352989,
     "end_time": "2024-03-17T16:51:06.521084",
     "exception": false,
     "start_time": "2024-03-17T16:51:05.168095",
     "status": "completed"
    },
    "tags": []
   },
   "outputs": [
    {
     "name": "stdout",
     "output_type": "stream",
     "text": [
      "MAE from Approach 1 (Drop categorical variables):\n",
      "17837.82570776256\n"
     ]
    }
   ],
   "source": [
    "print(\"MAE from Approach 1 (Drop categorical variables):\")\n",
    "print(score_dataset(drop_X_train, drop_X_valid, y_train, y_valid))"
   ]
  },
  {
   "cell_type": "markdown",
   "id": "78ccc281",
   "metadata": {
    "papermill": {
     "duration": 0.010349,
     "end_time": "2024-03-17T16:51:06.544173",
     "exception": false,
     "start_time": "2024-03-17T16:51:06.533824",
     "status": "completed"
    },
    "tags": []
   },
   "source": [
    "Before jumping into ordinal encoding, we'll investigate the dataset.  Specifically, we'll look at the `'Condition2'` column.  The code cell below prints the unique entries in both the training and validation sets."
   ]
  },
  {
   "cell_type": "code",
   "execution_count": 8,
   "id": "39aa6a9c",
   "metadata": {
    "execution": {
     "iopub.execute_input": "2024-03-17T16:51:06.569179Z",
     "iopub.status.busy": "2024-03-17T16:51:06.568311Z",
     "iopub.status.idle": "2024-03-17T16:51:06.578720Z",
     "shell.execute_reply": "2024-03-17T16:51:06.576882Z"
    },
    "papermill": {
     "duration": 0.026107,
     "end_time": "2024-03-17T16:51:06.581615",
     "exception": false,
     "start_time": "2024-03-17T16:51:06.555508",
     "status": "completed"
    },
    "tags": []
   },
   "outputs": [
    {
     "name": "stdout",
     "output_type": "stream",
     "text": [
      "Unique values in 'Condition2' column in training data: ['Norm' 'PosA' 'Feedr' 'PosN' 'Artery' 'RRAe']\n",
      "\n",
      "Unique values in 'Condition2' column in validation data: ['Norm' 'RRAn' 'RRNn' 'Artery' 'Feedr' 'PosN']\n"
     ]
    }
   ],
   "source": [
    "print(\"Unique values in 'Condition2' column in training data:\", X_train['Condition2'].unique())\n",
    "print(\"\\nUnique values in 'Condition2' column in validation data:\", X_valid['Condition2'].unique())"
   ]
  },
  {
   "cell_type": "markdown",
   "id": "123c1eda",
   "metadata": {
    "papermill": {
     "duration": 0.01002,
     "end_time": "2024-03-17T16:51:06.602062",
     "exception": false,
     "start_time": "2024-03-17T16:51:06.592042",
     "status": "completed"
    },
    "tags": []
   },
   "source": [
    "# Step 2: Ordinal encoding\n",
    "\n",
    "### Part A\n",
    "\n",
    "If you now write code to: \n",
    "- fit an ordinal encoder to the training data, and then \n",
    "- use it to transform both the training and validation data, \n",
    "\n",
    "you'll get an error.  Can you see why this is the case?  (_You'll need  to use the above output to answer this question._)"
   ]
  },
  {
   "cell_type": "code",
   "execution_count": 9,
   "id": "86a59cec",
   "metadata": {
    "execution": {
     "iopub.execute_input": "2024-03-17T16:51:06.627897Z",
     "iopub.status.busy": "2024-03-17T16:51:06.626852Z",
     "iopub.status.idle": "2024-03-17T16:51:06.636614Z",
     "shell.execute_reply": "2024-03-17T16:51:06.635356Z"
    },
    "papermill": {
     "duration": 0.025822,
     "end_time": "2024-03-17T16:51:06.639035",
     "exception": false,
     "start_time": "2024-03-17T16:51:06.613213",
     "status": "completed"
    },
    "tags": []
   },
   "outputs": [
    {
     "data": {
      "application/javascript": [
       "parent.postMessage({\"jupyterEvent\": \"custom.exercise_interaction\", \"data\": {\"outcomeType\": 1, \"valueTowardsCompletion\": 0.5, \"interactionType\": 1, \"questionType\": 4, \"questionId\": \"2.1_LabelA\", \"learnToolsVersion\": \"0.3.4\", \"failureMessage\": \"\", \"exceptionClass\": \"\", \"trace\": \"\"}}, \"*\")"
      ],
      "text/plain": [
       "<IPython.core.display.Javascript object>"
      ]
     },
     "metadata": {},
     "output_type": "display_data"
    },
    {
     "data": {
      "text/markdown": [
       "<span style=\"color:#33cc33\">Correct:</span> \n",
       "\n",
       "Fitting an ordinal encoder to a column in the training data creates a corresponding integer-valued label for each unique value **that appears in the training data**. In the case that the validation data contains values that don't also appear in the training data, the encoder will throw an error, because these values won't have an integer assigned to them.  Notice that the `'Condition2'` column in the validation data contains the values `'RRAn'` and `'RRNn'`, but these don't appear in the training data -- thus, if we try to use an ordinal encoder with scikit-learn, the code will throw an error."
      ],
      "text/plain": [
       "Correct: \n",
       "\n",
       "Fitting an ordinal encoder to a column in the training data creates a corresponding integer-valued label for each unique value **that appears in the training data**. In the case that the validation data contains values that don't also appear in the training data, the encoder will throw an error, because these values won't have an integer assigned to them.  Notice that the `'Condition2'` column in the validation data contains the values `'RRAn'` and `'RRNn'`, but these don't appear in the training data -- thus, if we try to use an ordinal encoder with scikit-learn, the code will throw an error."
      ]
     },
     "metadata": {},
     "output_type": "display_data"
    }
   ],
   "source": [
    "# Check your answer (Run this code cell to receive credit!)\n",
    "step_2.a.check()"
   ]
  },
  {
   "cell_type": "code",
   "execution_count": 10,
   "id": "7fc72236",
   "metadata": {
    "execution": {
     "iopub.execute_input": "2024-03-17T16:51:06.665755Z",
     "iopub.status.busy": "2024-03-17T16:51:06.665366Z",
     "iopub.status.idle": "2024-03-17T16:51:06.669244Z",
     "shell.execute_reply": "2024-03-17T16:51:06.668368Z"
    },
    "papermill": {
     "duration": 0.020783,
     "end_time": "2024-03-17T16:51:06.671500",
     "exception": false,
     "start_time": "2024-03-17T16:51:06.650717",
     "status": "completed"
    },
    "tags": []
   },
   "outputs": [],
   "source": [
    "#step_2.a.hint()"
   ]
  },
  {
   "cell_type": "markdown",
   "id": "26234180",
   "metadata": {
    "papermill": {
     "duration": 0.011125,
     "end_time": "2024-03-17T16:51:06.694476",
     "exception": false,
     "start_time": "2024-03-17T16:51:06.683351",
     "status": "completed"
    },
    "tags": []
   },
   "source": [
    "This is a common problem that you'll encounter with real-world data, and there are many approaches to fixing this issue.  For instance, you can write a custom ordinal encoder to deal with new categories.  The simplest approach, however, is to drop the problematic categorical columns.  \n",
    "\n",
    "Run the code cell below to save the problematic columns to a Python list `bad_label_cols`.  Likewise, columns that can be safely ordinal encoded are stored in `good_label_cols`."
   ]
  },
  {
   "cell_type": "code",
   "execution_count": 11,
   "id": "fe11d656",
   "metadata": {
    "execution": {
     "iopub.execute_input": "2024-03-17T16:51:06.719340Z",
     "iopub.status.busy": "2024-03-17T16:51:06.718345Z",
     "iopub.status.idle": "2024-03-17T16:51:06.735635Z",
     "shell.execute_reply": "2024-03-17T16:51:06.733608Z"
    },
    "papermill": {
     "duration": 0.033659,
     "end_time": "2024-03-17T16:51:06.739535",
     "exception": false,
     "start_time": "2024-03-17T16:51:06.705876",
     "status": "completed"
    },
    "tags": []
   },
   "outputs": [
    {
     "name": "stdout",
     "output_type": "stream",
     "text": [
      "Categorical columns that will be ordinal encoded: ['MSZoning', 'Street', 'LotShape', 'LandContour', 'Utilities', 'LotConfig', 'LandSlope', 'Neighborhood', 'Condition1', 'BldgType', 'HouseStyle', 'RoofStyle', 'Exterior1st', 'Exterior2nd', 'ExterQual', 'ExterCond', 'Foundation', 'Heating', 'HeatingQC', 'CentralAir', 'KitchenQual', 'PavedDrive', 'SaleType', 'SaleCondition']\n",
      "\n",
      "Categorical columns that will be dropped from the dataset: ['Condition2', 'RoofMatl', 'Functional']\n"
     ]
    }
   ],
   "source": [
    "# Categorical columns in the training data\n",
    "object_cols = [col for col in X_train.columns if X_train[col].dtype == \"object\"]\n",
    "\n",
    "# Columns that can be safely ordinal encoded\n",
    "good_label_cols = [col for col in object_cols if \n",
    "                   set(X_valid[col]).issubset(set(X_train[col]))]\n",
    "        \n",
    "# Problematic columns that will be dropped from the dataset\n",
    "bad_label_cols = list(set(object_cols)-set(good_label_cols))\n",
    "        \n",
    "print('Categorical columns that will be ordinal encoded:', good_label_cols)\n",
    "print('\\nCategorical columns that will be dropped from the dataset:', bad_label_cols)"
   ]
  },
  {
   "cell_type": "markdown",
   "id": "c33031f9",
   "metadata": {
    "papermill": {
     "duration": 0.010414,
     "end_time": "2024-03-17T16:51:06.761257",
     "exception": false,
     "start_time": "2024-03-17T16:51:06.750843",
     "status": "completed"
    },
    "tags": []
   },
   "source": [
    "### Part B\n",
    "\n",
    "Use the next code cell to ordinal encode the data in `X_train` and `X_valid`.  Set the preprocessed DataFrames to `label_X_train` and `label_X_valid`, respectively.  \n",
    "- We have provided code below to drop the categorical columns in `bad_label_cols` from the dataset. \n",
    "- You should ordinal encode the categorical columns in `good_label_cols`.  "
   ]
  },
  {
   "cell_type": "code",
   "execution_count": 12,
   "id": "0229742c",
   "metadata": {
    "execution": {
     "iopub.execute_input": "2024-03-17T16:51:06.786702Z",
     "iopub.status.busy": "2024-03-17T16:51:06.786303Z",
     "iopub.status.idle": "2024-03-17T16:51:06.835258Z",
     "shell.execute_reply": "2024-03-17T16:51:06.833216Z"
    },
    "papermill": {
     "duration": 0.066138,
     "end_time": "2024-03-17T16:51:06.838594",
     "exception": false,
     "start_time": "2024-03-17T16:51:06.772456",
     "status": "completed"
    },
    "tags": []
   },
   "outputs": [
    {
     "data": {
      "application/javascript": [
       "parent.postMessage({\"jupyterEvent\": \"custom.exercise_interaction\", \"data\": {\"outcomeType\": 1, \"valueTowardsCompletion\": 0.5, \"interactionType\": 1, \"questionType\": 2, \"questionId\": \"2.2_LabelB\", \"learnToolsVersion\": \"0.3.4\", \"failureMessage\": \"\", \"exceptionClass\": \"\", \"trace\": \"\"}}, \"*\")"
      ],
      "text/plain": [
       "<IPython.core.display.Javascript object>"
      ]
     },
     "metadata": {},
     "output_type": "display_data"
    },
    {
     "data": {
      "text/markdown": [
       "<span style=\"color:#33cc33\">Correct</span>"
      ],
      "text/plain": [
       "Correct"
      ]
     },
     "metadata": {},
     "output_type": "display_data"
    }
   ],
   "source": [
    "from sklearn.preprocessing import OrdinalEncoder\n",
    "\n",
    "# Drop categorical columns that will not be encoded\n",
    "label_X_train = X_train.drop(bad_label_cols, axis=1)\n",
    "label_X_valid = X_valid.drop(bad_label_cols, axis=1)\n",
    "\n",
    "# Apply ordinal encoder \n",
    "ordinalEncode = OrdinalEncoder()\n",
    "label_X_train[good_label_cols] = ordinalEncode.fit_transform(X_train[good_label_cols])\n",
    "label_X_valid[good_label_cols] = ordinalEncode.transform(X_valid[good_label_cols])\n",
    "\n",
    "    \n",
    "# Check your answer\n",
    "step_2.b.check()"
   ]
  },
  {
   "cell_type": "code",
   "execution_count": 13,
   "id": "e839a901",
   "metadata": {
    "execution": {
     "iopub.execute_input": "2024-03-17T16:51:06.863432Z",
     "iopub.status.busy": "2024-03-17T16:51:06.863019Z",
     "iopub.status.idle": "2024-03-17T16:51:06.868753Z",
     "shell.execute_reply": "2024-03-17T16:51:06.867203Z"
    },
    "papermill": {
     "duration": 0.021193,
     "end_time": "2024-03-17T16:51:06.871568",
     "exception": false,
     "start_time": "2024-03-17T16:51:06.850375",
     "status": "completed"
    },
    "tags": []
   },
   "outputs": [],
   "source": [
    "# Lines below will give you a hint or solution code\n",
    "#step_2.b.hint()\n",
    "#step_2.b.solution()"
   ]
  },
  {
   "cell_type": "markdown",
   "id": "2dd1bc69",
   "metadata": {
    "papermill": {
     "duration": 0.010993,
     "end_time": "2024-03-17T16:51:06.893955",
     "exception": false,
     "start_time": "2024-03-17T16:51:06.882962",
     "status": "completed"
    },
    "tags": []
   },
   "source": [
    "Run the next code cell to get the MAE for this approach."
   ]
  },
  {
   "cell_type": "code",
   "execution_count": 14,
   "id": "93240fde",
   "metadata": {
    "execution": {
     "iopub.execute_input": "2024-03-17T16:51:06.919002Z",
     "iopub.status.busy": "2024-03-17T16:51:06.918579Z",
     "iopub.status.idle": "2024-03-17T16:51:08.549875Z",
     "shell.execute_reply": "2024-03-17T16:51:08.548422Z"
    },
    "papermill": {
     "duration": 1.647701,
     "end_time": "2024-03-17T16:51:08.552689",
     "exception": false,
     "start_time": "2024-03-17T16:51:06.904988",
     "status": "completed"
    },
    "tags": []
   },
   "outputs": [
    {
     "name": "stdout",
     "output_type": "stream",
     "text": [
      "MAE from Approach 2 (Ordinal Encoding):\n",
      "17098.01649543379\n"
     ]
    }
   ],
   "source": [
    "print(\"MAE from Approach 2 (Ordinal Encoding):\") \n",
    "print(score_dataset(label_X_train, label_X_valid, y_train, y_valid))"
   ]
  },
  {
   "cell_type": "markdown",
   "id": "09057668",
   "metadata": {
    "papermill": {
     "duration": 0.011421,
     "end_time": "2024-03-17T16:51:08.576957",
     "exception": false,
     "start_time": "2024-03-17T16:51:08.565536",
     "status": "completed"
    },
    "tags": []
   },
   "source": [
    "So far, you've tried two different approaches to dealing with categorical variables.  And, you've seen that encoding categorical data yields better results than removing columns from the dataset.\n",
    "\n",
    "Soon, you'll try one-hot encoding.  Before then, there's one additional topic we need to cover.  Begin by running the next code cell without changes.  "
   ]
  },
  {
   "cell_type": "code",
   "execution_count": 15,
   "id": "4b49a748",
   "metadata": {
    "execution": {
     "iopub.execute_input": "2024-03-17T16:51:08.602296Z",
     "iopub.status.busy": "2024-03-17T16:51:08.601899Z",
     "iopub.status.idle": "2024-03-17T16:51:08.616066Z",
     "shell.execute_reply": "2024-03-17T16:51:08.614843Z"
    },
    "papermill": {
     "duration": 0.029454,
     "end_time": "2024-03-17T16:51:08.618792",
     "exception": false,
     "start_time": "2024-03-17T16:51:08.589338",
     "status": "completed"
    },
    "tags": []
   },
   "outputs": [
    {
     "data": {
      "text/plain": [
       "[('Street', 2),\n",
       " ('Utilities', 2),\n",
       " ('CentralAir', 2),\n",
       " ('LandSlope', 3),\n",
       " ('PavedDrive', 3),\n",
       " ('LotShape', 4),\n",
       " ('LandContour', 4),\n",
       " ('ExterQual', 4),\n",
       " ('KitchenQual', 4),\n",
       " ('MSZoning', 5),\n",
       " ('LotConfig', 5),\n",
       " ('BldgType', 5),\n",
       " ('ExterCond', 5),\n",
       " ('HeatingQC', 5),\n",
       " ('Condition2', 6),\n",
       " ('RoofStyle', 6),\n",
       " ('Foundation', 6),\n",
       " ('Heating', 6),\n",
       " ('Functional', 6),\n",
       " ('SaleCondition', 6),\n",
       " ('RoofMatl', 7),\n",
       " ('HouseStyle', 8),\n",
       " ('Condition1', 9),\n",
       " ('SaleType', 9),\n",
       " ('Exterior1st', 15),\n",
       " ('Exterior2nd', 16),\n",
       " ('Neighborhood', 25)]"
      ]
     },
     "execution_count": 15,
     "metadata": {},
     "output_type": "execute_result"
    }
   ],
   "source": [
    "# Get number of unique entries in each column with categorical data\n",
    "object_nunique = list(map(lambda col: X_train[col].nunique(), object_cols))\n",
    "d = dict(zip(object_cols, object_nunique))\n",
    "\n",
    "# Print number of unique entries by column, in ascending order\n",
    "sorted(d.items(), key=lambda x: x[1])"
   ]
  },
  {
   "cell_type": "markdown",
   "id": "8c5ed69f",
   "metadata": {
    "papermill": {
     "duration": 0.011035,
     "end_time": "2024-03-17T16:51:08.641328",
     "exception": false,
     "start_time": "2024-03-17T16:51:08.630293",
     "status": "completed"
    },
    "tags": []
   },
   "source": [
    "# Step 3: Investigating cardinality\n",
    "\n",
    "### Part A\n",
    "\n",
    "The output above shows, for each column with categorical data, the number of unique values in the column.  For instance, the `'Street'` column in the training data has two unique values: `'Grvl'` and `'Pave'`, corresponding to a gravel road and a paved road, respectively.\n",
    "\n",
    "We refer to the number of unique entries of a categorical variable as the **cardinality** of that categorical variable.  For instance, the `'Street'` variable has cardinality 2.\n",
    "\n",
    "Use the output above to answer the questions below."
   ]
  },
  {
   "cell_type": "code",
   "execution_count": 16,
   "id": "4f91e7ac",
   "metadata": {
    "execution": {
     "iopub.execute_input": "2024-03-17T16:51:08.667414Z",
     "iopub.status.busy": "2024-03-17T16:51:08.667002Z",
     "iopub.status.idle": "2024-03-17T16:51:08.677153Z",
     "shell.execute_reply": "2024-03-17T16:51:08.675687Z"
    },
    "papermill": {
     "duration": 0.026073,
     "end_time": "2024-03-17T16:51:08.679584",
     "exception": false,
     "start_time": "2024-03-17T16:51:08.653511",
     "status": "completed"
    },
    "tags": []
   },
   "outputs": [
    {
     "data": {
      "application/javascript": [
       "parent.postMessage({\"jupyterEvent\": \"custom.exercise_interaction\", \"data\": {\"outcomeType\": 1, \"valueTowardsCompletion\": 0.5, \"interactionType\": 1, \"questionType\": 1, \"questionId\": \"3.1_CardinalityA\", \"learnToolsVersion\": \"0.3.4\", \"failureMessage\": \"\", \"exceptionClass\": \"\", \"trace\": \"\"}}, \"*\")"
      ],
      "text/plain": [
       "<IPython.core.display.Javascript object>"
      ]
     },
     "metadata": {},
     "output_type": "display_data"
    },
    {
     "data": {
      "text/markdown": [
       "<span style=\"color:#33cc33\">Correct</span>"
      ],
      "text/plain": [
       "Correct"
      ]
     },
     "metadata": {},
     "output_type": "display_data"
    }
   ],
   "source": [
    "# Fill in the line below: How many categorical variables in the training data\n",
    "# have cardinality greater than 10?\n",
    "high_cardinality_numcols = 3\n",
    "\n",
    "# Fill in the line below: How many columns are needed to one-hot encode the \n",
    "# 'Neighborhood' variable in the training data?\n",
    "num_cols_neighborhood = 25\n",
    "\n",
    "# Check your answers\n",
    "step_3.a.check()"
   ]
  },
  {
   "cell_type": "code",
   "execution_count": 17,
   "id": "8d764589",
   "metadata": {
    "execution": {
     "iopub.execute_input": "2024-03-17T16:51:08.706408Z",
     "iopub.status.busy": "2024-03-17T16:51:08.706004Z",
     "iopub.status.idle": "2024-03-17T16:51:08.711122Z",
     "shell.execute_reply": "2024-03-17T16:51:08.709786Z"
    },
    "papermill": {
     "duration": 0.022107,
     "end_time": "2024-03-17T16:51:08.714026",
     "exception": false,
     "start_time": "2024-03-17T16:51:08.691919",
     "status": "completed"
    },
    "tags": []
   },
   "outputs": [],
   "source": [
    "# Lines below will give you a hint or solution code\n",
    "#step_3.a.hint()\n",
    "#step_3.a.solution()"
   ]
  },
  {
   "cell_type": "markdown",
   "id": "5bc59007",
   "metadata": {
    "papermill": {
     "duration": 0.011715,
     "end_time": "2024-03-17T16:51:08.804748",
     "exception": false,
     "start_time": "2024-03-17T16:51:08.793033",
     "status": "completed"
    },
    "tags": []
   },
   "source": [
    "### Part B\n",
    "\n",
    "For large datasets with many rows, one-hot encoding can greatly expand the size of the dataset.  For this reason, we typically will only one-hot encode columns with relatively low cardinality.  Then, high cardinality columns can either be dropped from the dataset, or we can use ordinal encoding.\n",
    "\n",
    "As an example, consider a dataset with 10,000 rows, and containing one categorical column with 100 unique entries.  \n",
    "- If this column is replaced with the corresponding one-hot encoding, how many entries are added to the dataset?  \n",
    "- If we instead replace the column with the ordinal encoding, how many entries are added?  \n",
    "\n",
    "Use your answers to fill in the lines below."
   ]
  },
  {
   "cell_type": "code",
   "execution_count": 18,
   "id": "8cfff9ce",
   "metadata": {
    "execution": {
     "iopub.execute_input": "2024-03-17T16:51:08.832488Z",
     "iopub.status.busy": "2024-03-17T16:51:08.832104Z",
     "iopub.status.idle": "2024-03-17T16:51:08.844668Z",
     "shell.execute_reply": "2024-03-17T16:51:08.843217Z"
    },
    "papermill": {
     "duration": 0.030809,
     "end_time": "2024-03-17T16:51:08.847910",
     "exception": false,
     "start_time": "2024-03-17T16:51:08.817101",
     "status": "completed"
    },
    "tags": []
   },
   "outputs": [
    {
     "data": {
      "application/javascript": [
       "parent.postMessage({\"jupyterEvent\": \"custom.exercise_interaction\", \"data\": {\"outcomeType\": 1, \"valueTowardsCompletion\": 0.5, \"interactionType\": 1, \"questionType\": 1, \"questionId\": \"3.2_CardinalityB\", \"learnToolsVersion\": \"0.3.4\", \"failureMessage\": \"\", \"exceptionClass\": \"\", \"trace\": \"\"}}, \"*\")"
      ],
      "text/plain": [
       "<IPython.core.display.Javascript object>"
      ]
     },
     "metadata": {},
     "output_type": "display_data"
    },
    {
     "data": {
      "text/markdown": [
       "<span style=\"color:#33cc33\">Correct</span>"
      ],
      "text/plain": [
       "Correct"
      ]
     },
     "metadata": {},
     "output_type": "display_data"
    }
   ],
   "source": [
    "# Fill in the line below: How many entries are added to the dataset by \n",
    "# replacing the column with a one-hot encoding?\n",
    "OH_entries_added = 100 * 1e4 - 1e4\n",
    "\n",
    "# Fill in the line below: How many entries are added to the dataset by\n",
    "# replacing the column with an ordinal encoding?\n",
    "label_entries_added = 0\n",
    "\n",
    "# Check your answers\n",
    "step_3.b.check()"
   ]
  },
  {
   "cell_type": "code",
   "execution_count": 19,
   "id": "a3b7ecf6",
   "metadata": {
    "execution": {
     "iopub.execute_input": "2024-03-17T16:51:08.876759Z",
     "iopub.status.busy": "2024-03-17T16:51:08.876372Z",
     "iopub.status.idle": "2024-03-17T16:51:08.881712Z",
     "shell.execute_reply": "2024-03-17T16:51:08.879756Z"
    },
    "papermill": {
     "duration": 0.023527,
     "end_time": "2024-03-17T16:51:08.884366",
     "exception": false,
     "start_time": "2024-03-17T16:51:08.860839",
     "status": "completed"
    },
    "tags": []
   },
   "outputs": [],
   "source": [
    "# Lines below will give you a hint or solution code\n",
    "# step_3.b.hint()\n",
    "# step_3.b.solution()"
   ]
  },
  {
   "cell_type": "markdown",
   "id": "f9e3fc7e",
   "metadata": {
    "papermill": {
     "duration": 0.013679,
     "end_time": "2024-03-17T16:51:08.909963",
     "exception": false,
     "start_time": "2024-03-17T16:51:08.896284",
     "status": "completed"
    },
    "tags": []
   },
   "source": [
    "Next, you'll experiment with one-hot encoding.  But, instead of encoding all of the categorical variables in the dataset, you'll only create a one-hot encoding for columns with cardinality less than 10.\n",
    "\n",
    "Run the code cell below without changes to set `low_cardinality_cols` to a Python list containing the columns that will be one-hot encoded.  Likewise, `high_cardinality_cols` contains a list of categorical columns that will be dropped from the dataset."
   ]
  },
  {
   "cell_type": "code",
   "execution_count": 20,
   "id": "cc1b21e6",
   "metadata": {
    "execution": {
     "iopub.execute_input": "2024-03-17T16:51:08.936033Z",
     "iopub.status.busy": "2024-03-17T16:51:08.935459Z",
     "iopub.status.idle": "2024-03-17T16:51:08.945511Z",
     "shell.execute_reply": "2024-03-17T16:51:08.944095Z"
    },
    "papermill": {
     "duration": 0.026249,
     "end_time": "2024-03-17T16:51:08.948133",
     "exception": false,
     "start_time": "2024-03-17T16:51:08.921884",
     "status": "completed"
    },
    "tags": []
   },
   "outputs": [
    {
     "name": "stdout",
     "output_type": "stream",
     "text": [
      "Categorical columns that will be one-hot encoded: ['MSZoning', 'Street', 'LotShape', 'LandContour', 'Utilities', 'LotConfig', 'LandSlope', 'Condition1', 'Condition2', 'BldgType', 'HouseStyle', 'RoofStyle', 'RoofMatl', 'ExterQual', 'ExterCond', 'Foundation', 'Heating', 'HeatingQC', 'CentralAir', 'KitchenQual', 'Functional', 'PavedDrive', 'SaleType', 'SaleCondition']\n",
      "\n",
      "Categorical columns that will be dropped from the dataset: ['Neighborhood', 'Exterior1st', 'Exterior2nd']\n"
     ]
    }
   ],
   "source": [
    "# Columns that will be one-hot encoded\n",
    "low_cardinality_cols = [col for col in object_cols if X_train[col].nunique() < 10]\n",
    "\n",
    "# Columns that will be dropped from the dataset\n",
    "high_cardinality_cols = list(set(object_cols)-set(low_cardinality_cols))\n",
    "\n",
    "print('Categorical columns that will be one-hot encoded:', low_cardinality_cols)\n",
    "print('\\nCategorical columns that will be dropped from the dataset:', high_cardinality_cols)"
   ]
  },
  {
   "cell_type": "markdown",
   "id": "6595dd29",
   "metadata": {
    "papermill": {
     "duration": 0.014235,
     "end_time": "2024-03-17T16:51:08.975176",
     "exception": false,
     "start_time": "2024-03-17T16:51:08.960941",
     "status": "completed"
    },
    "tags": []
   },
   "source": [
    "# Step 4: One-hot encoding\n",
    "\n",
    "Use the next code cell to one-hot encode the data in `X_train` and `X_valid`.  Set the preprocessed DataFrames to `OH_X_train` and `OH_X_valid`, respectively.  \n",
    "- The full list of categorical columns in the dataset can be found in the Python list `object_cols`.\n",
    "- You should only one-hot encode the categorical columns in `low_cardinality_cols`.  All other categorical columns should be dropped from the dataset. "
   ]
  },
  {
   "cell_type": "code",
   "execution_count": 21,
   "id": "04e96c64",
   "metadata": {
    "execution": {
     "iopub.execute_input": "2024-03-17T16:51:09.005015Z",
     "iopub.status.busy": "2024-03-17T16:51:09.004557Z",
     "iopub.status.idle": "2024-03-17T16:51:09.057190Z",
     "shell.execute_reply": "2024-03-17T16:51:09.055439Z"
    },
    "papermill": {
     "duration": 0.070739,
     "end_time": "2024-03-17T16:51:09.060216",
     "exception": false,
     "start_time": "2024-03-17T16:51:08.989477",
     "status": "completed"
    },
    "tags": []
   },
   "outputs": [
    {
     "data": {
      "application/javascript": [
       "parent.postMessage({\"jupyterEvent\": \"custom.exercise_interaction\", \"data\": {\"outcomeType\": 1, \"valueTowardsCompletion\": 0.5, \"interactionType\": 1, \"questionType\": 2, \"questionId\": \"4_OneHot\", \"learnToolsVersion\": \"0.3.4\", \"failureMessage\": \"\", \"exceptionClass\": \"\", \"trace\": \"\"}}, \"*\")"
      ],
      "text/plain": [
       "<IPython.core.display.Javascript object>"
      ]
     },
     "metadata": {},
     "output_type": "display_data"
    },
    {
     "data": {
      "text/markdown": [
       "<span style=\"color:#33cc33\">Correct</span>"
      ],
      "text/plain": [
       "Correct"
      ]
     },
     "metadata": {},
     "output_type": "display_data"
    }
   ],
   "source": [
    "from sklearn.preprocessing import OneHotEncoder\n",
    "\n",
    "# Use as many lines of code as you need!\n",
    "OH_encode = OneHotEncoder(handle_unknown='ignore',sparse_output=False)\n",
    "OH_cols_train = pd.DataFrame(OH_encode.fit_transform(X_train[low_cardinality_cols]))\n",
    "OH_cols_valid = pd.DataFrame(OH_encode.transform(X_valid[low_cardinality_cols]))\n",
    "\n",
    "OH_cols_train.index = X_train.index\n",
    "OH_cols_valid.index = X_valid.index\n",
    "\n",
    "num_X_train = X_train.drop(object_cols, axis=1)\n",
    "num_X_valid = X_valid.drop(object_cols, axis=1)\n",
    "\n",
    "OH_X_train = pd.concat([num_X_train,OH_cols_train], axis=1)\n",
    "OH_X_valid = pd.concat([num_X_valid,OH_cols_valid], axis=1)\n",
    "\n",
    "OH_X_train.columns = OH_X_train.columns.astype(str)\n",
    "OH_X_valid.columns = OH_X_valid.columns.astype(str)\n",
    "\n",
    "# Check your answer\n",
    "step_4.check()"
   ]
  },
  {
   "cell_type": "code",
   "execution_count": 22,
   "id": "33c8be48",
   "metadata": {
    "execution": {
     "iopub.execute_input": "2024-03-17T16:51:09.088606Z",
     "iopub.status.busy": "2024-03-17T16:51:09.088215Z",
     "iopub.status.idle": "2024-03-17T16:51:09.092666Z",
     "shell.execute_reply": "2024-03-17T16:51:09.091700Z"
    },
    "papermill": {
     "duration": 0.022119,
     "end_time": "2024-03-17T16:51:09.095244",
     "exception": false,
     "start_time": "2024-03-17T16:51:09.073125",
     "status": "completed"
    },
    "tags": []
   },
   "outputs": [],
   "source": [
    "# Lines below will give you a hint or solution code\n",
    "#step_4.hint()\n",
    "# step_4.solution()"
   ]
  },
  {
   "cell_type": "markdown",
   "id": "e40d5384",
   "metadata": {
    "papermill": {
     "duration": 0.012204,
     "end_time": "2024-03-17T16:51:09.121385",
     "exception": false,
     "start_time": "2024-03-17T16:51:09.109181",
     "status": "completed"
    },
    "tags": []
   },
   "source": [
    "Run the next code cell to get the MAE for this approach."
   ]
  },
  {
   "cell_type": "code",
   "execution_count": 23,
   "id": "0c500695",
   "metadata": {
    "execution": {
     "iopub.execute_input": "2024-03-17T16:51:09.149259Z",
     "iopub.status.busy": "2024-03-17T16:51:09.148742Z",
     "iopub.status.idle": "2024-03-17T16:51:11.251001Z",
     "shell.execute_reply": "2024-03-17T16:51:11.249594Z"
    },
    "papermill": {
     "duration": 2.120259,
     "end_time": "2024-03-17T16:51:11.253897",
     "exception": false,
     "start_time": "2024-03-17T16:51:09.133638",
     "status": "completed"
    },
    "tags": []
   },
   "outputs": [
    {
     "name": "stdout",
     "output_type": "stream",
     "text": [
      "MAE from Approach 3 (One-Hot Encoding):\n",
      "17525.345719178084\n"
     ]
    }
   ],
   "source": [
    "print(\"MAE from Approach 3 (One-Hot Encoding):\") \n",
    "print(score_dataset(OH_X_train, OH_X_valid, y_train, y_valid))"
   ]
  },
  {
   "cell_type": "code",
   "execution_count": 24,
   "id": "0907fc51",
   "metadata": {
    "execution": {
     "iopub.execute_input": "2024-03-17T16:51:11.280291Z",
     "iopub.status.busy": "2024-03-17T16:51:11.279897Z",
     "iopub.status.idle": "2024-03-17T16:51:13.409746Z",
     "shell.execute_reply": "2024-03-17T16:51:13.408269Z"
    },
    "papermill": {
     "duration": 2.146814,
     "end_time": "2024-03-17T16:51:13.413088",
     "exception": false,
     "start_time": "2024-03-17T16:51:11.266274",
     "status": "completed"
    },
    "tags": []
   },
   "outputs": [],
   "source": [
    "# Define and fit model\n",
    "model = RandomForestRegressor(n_estimators=100, random_state=0)\n",
    "model.fit(OH_X_train, y_train)\n",
    "\n",
    "preds_test = model.predict(OH_X_valid)"
   ]
  },
  {
   "cell_type": "code",
   "execution_count": 25,
   "id": "4669ef9a",
   "metadata": {
    "execution": {
     "iopub.execute_input": "2024-03-17T16:51:13.441992Z",
     "iopub.status.busy": "2024-03-17T16:51:13.441555Z",
     "iopub.status.idle": "2024-03-17T16:51:13.452574Z",
     "shell.execute_reply": "2024-03-17T16:51:13.451067Z"
    },
    "papermill": {
     "duration": 0.027812,
     "end_time": "2024-03-17T16:51:13.455314",
     "exception": false,
     "start_time": "2024-03-17T16:51:13.427502",
     "status": "completed"
    },
    "tags": []
   },
   "outputs": [],
   "source": [
    "# Save test predictions to file\n",
    "output = pd.DataFrame({'Id': OH_X_valid.index,\n",
    "                       'SalePrice': preds_test})\n",
    "output.to_csv('submission.csv', index=False)"
   ]
  },
  {
   "cell_type": "markdown",
   "id": "1c5cd497",
   "metadata": {
    "papermill": {
     "duration": 0.012172,
     "end_time": "2024-03-17T16:51:13.480533",
     "exception": false,
     "start_time": "2024-03-17T16:51:13.468361",
     "status": "completed"
    },
    "tags": []
   },
   "source": [
    "# Generate test predictions and submit your results\n",
    "\n",
    "After you complete Step 4, if you'd like to use what you've learned to submit your results to the leaderboard, you'll need to preprocess the test data before generating predictions.\n",
    "\n",
    "**This step is completely optional, and you do not need to submit results to the leaderboard to successfully complete the exercise.**\n",
    "\n",
    "Check out the previous exercise if you need help with remembering how to [join the competition](https://www.kaggle.com/c/home-data-for-ml-course) or save your results to CSV.  Once you have generated a file with your results, follow the instructions below:\n",
    "1. Begin by clicking on the **Save Version** button in the top right corner of the window.  This will generate a pop-up window.  \n",
    "2. Ensure that the **Save and Run All** option is selected, and then click on the **Save** button.\n",
    "3. This generates a window in the bottom left corner of the notebook.  After it has finished running, click on the number to the right of the **Save Version** button.  This pulls up a list of versions on the right of the screen.  Click on the ellipsis **(...)** to the right of the most recent version, and select **Open in Viewer**.  This brings you into view mode of the same page. You will need to scroll down to get back to these instructions.\n",
    "4. Click on the **Data** tab near the top of the screen.  Then, click on the file you would like to submit, and click on the **Submit** button to submit your results to the leaderboard.\n",
    "\n",
    "You have now successfully submitted to the competition!\n",
    "\n",
    "If you want to keep working to improve your performance, select the **Edit** button in the top right of the screen. Then you can change your code and repeat the process. There's a lot of room to improve, and you will climb up the leaderboard as you work.\n"
   ]
  },
  {
   "cell_type": "code",
   "execution_count": 26,
   "id": "6df39af8",
   "metadata": {
    "execution": {
     "iopub.execute_input": "2024-03-17T16:51:13.507996Z",
     "iopub.status.busy": "2024-03-17T16:51:13.507573Z",
     "iopub.status.idle": "2024-03-17T16:51:13.512823Z",
     "shell.execute_reply": "2024-03-17T16:51:13.511173Z"
    },
    "papermill": {
     "duration": 0.022434,
     "end_time": "2024-03-17T16:51:13.515369",
     "exception": false,
     "start_time": "2024-03-17T16:51:13.492935",
     "status": "completed"
    },
    "tags": []
   },
   "outputs": [],
   "source": [
    "# (Optional) Your code here"
   ]
  },
  {
   "cell_type": "markdown",
   "id": "008e50da",
   "metadata": {
    "papermill": {
     "duration": 0.013325,
     "end_time": "2024-03-17T16:51:13.541985",
     "exception": false,
     "start_time": "2024-03-17T16:51:13.528660",
     "status": "completed"
    },
    "tags": []
   },
   "source": [
    "# Keep going\n",
    "\n",
    "With missing value handling and categorical encoding, your modeling process is getting complex. This complexity gets worse when you want to save your model to use in the future. The key to managing this complexity is something called **pipelines**. \n",
    "\n",
    "**[Learn to use pipelines](https://www.kaggle.com/alexisbcook/pipelines)** to preprocess datasets with categorical variables, missing values and any other messiness your data throws at you."
   ]
  },
  {
   "cell_type": "markdown",
   "id": "03e7e7fd",
   "metadata": {
    "papermill": {
     "duration": 0.013221,
     "end_time": "2024-03-17T16:51:13.567998",
     "exception": false,
     "start_time": "2024-03-17T16:51:13.554777",
     "status": "completed"
    },
    "tags": []
   },
   "source": [
    "---\n",
    "\n",
    "\n",
    "\n",
    "\n",
    "*Have questions or comments? Visit the [course discussion forum](https://www.kaggle.com/learn/intermediate-machine-learning/discussion) to chat with other learners.*"
   ]
  }
 ],
 "metadata": {
  "kaggle": {
   "accelerator": "none",
   "dataSources": [
    {
     "databundleVersionId": 111096,
     "sourceId": 10211,
     "sourceType": "competition"
    }
   ],
   "isGpuEnabled": false,
   "isInternetEnabled": false,
   "language": "python",
   "sourceType": "notebook"
  },
  "kernelspec": {
   "display_name": "Python 3",
   "language": "python",
   "name": "python3"
  },
  "language_info": {
   "codemirror_mode": {
    "name": "ipython",
    "version": 3
   },
   "file_extension": ".py",
   "mimetype": "text/x-python",
   "name": "python",
   "nbconvert_exporter": "python",
   "pygments_lexer": "ipython3",
   "version": "3.10.13"
  },
  "papermill": {
   "default_parameters": {},
   "duration": 16.35017,
   "end_time": "2024-03-17T16:51:14.304108",
   "environment_variables": {},
   "exception": null,
   "input_path": "__notebook__.ipynb",
   "output_path": "__notebook__.ipynb",
   "parameters": {},
   "start_time": "2024-03-17T16:50:57.953938",
   "version": "2.5.0"
  }
 },
 "nbformat": 4,
 "nbformat_minor": 5
}
