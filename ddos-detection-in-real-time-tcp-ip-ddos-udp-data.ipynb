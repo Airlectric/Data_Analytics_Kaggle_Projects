{
 "cells": [
  {
   "cell_type": "code",
   "execution_count": 1,
   "id": "536974b1",
   "metadata": {
    "_cell_guid": "b1076dfc-b9ad-4769-8c92-a6c4dae69d19",
    "_uuid": "8f2839f25d086af736a60e9eeb907d3b93b6e0e5",
    "execution": {
     "iopub.execute_input": "2024-04-22T16:12:28.471488Z",
     "iopub.status.busy": "2024-04-22T16:12:28.471060Z",
     "iopub.status.idle": "2024-04-22T16:12:31.106356Z",
     "shell.execute_reply": "2024-04-22T16:12:31.104773Z"
    },
    "papermill": {
     "duration": 2.643213,
     "end_time": "2024-04-22T16:12:31.109725",
     "exception": false,
     "start_time": "2024-04-22T16:12:28.466512",
     "status": "completed"
    },
    "tags": []
   },
   "outputs": [],
   "source": [
    "import numpy as np\n",
    "import pandas as pd\n",
    "import seaborn as sns"
   ]
  },
  {
   "cell_type": "code",
   "execution_count": 2,
   "id": "a252754f",
   "metadata": {
    "execution": {
     "iopub.execute_input": "2024-04-22T16:12:31.117382Z",
     "iopub.status.busy": "2024-04-22T16:12:31.116611Z",
     "iopub.status.idle": "2024-04-22T16:12:34.783088Z",
     "shell.execute_reply": "2024-04-22T16:12:34.781909Z"
    },
    "papermill": {
     "duration": 3.673816,
     "end_time": "2024-04-22T16:12:34.786279",
     "exception": false,
     "start_time": "2024-04-22T16:12:31.112463",
     "status": "completed"
    },
    "tags": []
   },
   "outputs": [],
   "source": [
    "# Load the training dataset\n",
    "df = pd.read_csv('/kaggle/input/tcp-ip-ddos-udp/TCP_IP-DDoS-UDP1_train.pcap.csv')\n",
    "\n",
    "# Load the testing dataset\n",
    "df_test = pd.read_csv('/kaggle/input/tcp-ip-ddos-udp/TCP_IP-DDoS-UDP1_test.pcap.csv')"
   ]
  }
 ],
 "metadata": {
  "kaggle": {
   "accelerator": "none",
   "dataSources": [
    {
     "datasetId": 4854918,
     "sourceId": 8196355,
     "sourceType": "datasetVersion"
    }
   ],
   "isGpuEnabled": false,
   "isInternetEnabled": true,
   "language": "python",
   "sourceType": "notebook"
  },
  "kernelspec": {
   "display_name": "Python 3",
   "language": "python",
   "name": "python3"
  },
  "language_info": {
   "codemirror_mode": {
    "name": "ipython",
    "version": 3
   },
   "file_extension": ".py",
   "mimetype": "text/x-python",
   "name": "python",
   "nbconvert_exporter": "python",
   "pygments_lexer": "ipython3",
   "version": "3.10.13"
  },
  "papermill": {
   "default_parameters": {},
   "duration": 10.411434,
   "end_time": "2024-04-22T16:12:35.612387",
   "environment_variables": {},
   "exception": null,
   "input_path": "__notebook__.ipynb",
   "output_path": "__notebook__.ipynb",
   "parameters": {},
   "start_time": "2024-04-22T16:12:25.200953",
   "version": "2.5.0"
  }
 },
 "nbformat": 4,
 "nbformat_minor": 5
}
